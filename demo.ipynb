{
 "cells": [
  {
   "cell_type": "code",
   "execution_count": null,
   "metadata": {},
   "outputs": [],
   "source": []
  },
  {
   "cell_type": "code",
   "execution_count": 3,
   "metadata": {},
   "outputs": [
    {
     "name": "stdout",
     "output_type": "stream",
     "text": [
      "load feautres done\n",
      "load references done\n"
     ]
    }
   ],
   "source": [
    "from pipeline.retriever import MultimodalRetriever\n",
    "features_model_dict={\"image\":\"clip\",\"table\":\"ada\",\"text\":\"gte-base-en-v1.5\"}\n",
    "retriever=MultimodalRetriever(\"MMCOQA\",features_model_dict)\n",
    "question_ids=[\"C_226_0\",\"C_226_1\"]\n",
    "retrieved_results,retrieved_reference=retriever.retrieve(question_ids) "
   ]
  },
  {
   "cell_type": "markdown",
   "metadata": {},
   "source": []
  },
  {
   "cell_type": "code",
   "execution_count": 18,
   "metadata": {},
   "outputs": [
    {
     "data": {
      "text/plain": [
       "{'C_226_0': {'9fe4c4a5aff78f260bf5e3d80bcf03c5': 0.8446492552757263,\n",
       "  'e1ee31b4c421c5317c4d1031f40c0f2c': 0.8200076222419739,\n",
       "  '325a66c8768108b2f24ae3f678bda36c': 0.8174766302108765,\n",
       "  '351a6e14bd71db0e659585e02060b09c': 0.8141371011734009,\n",
       "  '3b81e7e244c17218028cd362ae95984f': 0.8103184103965759,\n",
       "  '982ffec3b3ecb1be604e7c450c3886e4': 0.8092222213745117,\n",
       "  '09325f19949f1f7142159a83911e7172': 0.8045964241027832,\n",
       "  '1d776deefb245065fc5499685ca276f9': 0.8037104606628418,\n",
       "  'b0d0fd2445cb05fb023d99103e9ba7de': 0.8027129173278809,\n",
       "  '972bbd969d9772cf6c9494dd129349ae': 0.8016668558120728,\n",
       "  '513e7b7a2cd2047ad53c78cb4ebecfe2': 0.8010497093200684,\n",
       "  '623651dbfa2056bb8c3f9fe025f1a12a': 0.8008615970611572,\n",
       "  '6e9f3e5396f820bd576f26f9a13632ce': 0.800637423992157,\n",
       "  '12de0e440617172e0352ce4a9af946b6': 0.8005475401878357,\n",
       "  'bdc18ab5ad99893811665ab97cfd63b1': 0.8004106879234314,\n",
       "  '9bbf06b9031937dc02519f94c142b698': 0.8001096248626709,\n",
       "  '0e37070a84c085c74ef4bf507c6ae93f': 0.7995477914810181,\n",
       "  '9538a26d0f029cbc11c422053658ff68': 0.7991701364517212,\n",
       "  '99c0831c9d34fad328b3672a47fd0e9c': 0.7987717390060425,\n",
       "  '43dbac93bcab7fdf26d563ab0b163e6d': 0.7985097169876099,\n",
       "  'c669d78292a121063e019a054a96db36': 0.7971062660217285,\n",
       "  '2b05d4318855aec795f43882e86fb3a6': 0.7970975637435913,\n",
       "  '39277cad57a51aa9f99e647aa701705c': 0.7970225811004639,\n",
       "  '3dfa9d6dbde078807e216ef6c4f2f8bb': 0.7968533039093018,\n",
       "  '119d6fcedd1e73af81e461c6f40bb87d': 0.796757161617279,\n",
       "  'a193a69702edbda8186f104e57e07bd6': 0.7966993451118469,\n",
       "  'e04e1d874bf1fcd7f3244697c9691332': 0.7963947057723999,\n",
       "  'cb058ae0be8b6d59c076dc703595b2d9': 0.7963281869888306,\n",
       "  '82e9d8690f6539931512152fe434559c': 0.7962861061096191,\n",
       "  '49a13906ed10732359183cd410c05f0f': 0.7961931228637695,\n",
       "  '32326e67dab738bc3b1b54ccc8ec2b3f': 0.7956352233886719,\n",
       "  '1a9faa419ec686268cf808e3a8883530': 0.7955963611602783,\n",
       "  'f7720ccbf3536685213822ce1cc74e5e': 0.7954089045524597,\n",
       "  '28bba0929bbaf9a0f001dec1a6db77e0': 0.7952929735183716,\n",
       "  'c271f4902708a82d39d503fcd9f89291': 0.7951360940933228,\n",
       "  '38cfc703c0da9ccc51dfba5fd88e3957': 0.7949193716049194,\n",
       "  '077c0325043d3ed7d1c885792613e811': 0.7948304414749146,\n",
       "  '6fc62bf0d691409cbbbfb0561df521cf': 0.7944858074188232,\n",
       "  '2f648c137007ef75eb71d612c1e19467': 0.7937788963317871,\n",
       "  '6d2984c31d5286f89cdd0feca262882f': 0.7937272191047668,\n",
       "  '4f9578dd1bd146870fcf0a5078085c91': 0.7936918139457703,\n",
       "  'f50453c18f5e2e766cf742a57986f418': 0.7935178875923157,\n",
       "  'eea5a3ca7676a229589c4da0b66849de': 0.7934004068374634,\n",
       "  'dd28ed9c2fc5ca1fe32ab213bedc2a1a': 0.7932332754135132,\n",
       "  '69443c5de594d0b98ca253f3161a9658': 0.7931519746780396,\n",
       "  '1b04eaa5604407454545b1600af72b02': 0.7931307554244995,\n",
       "  '52fc5edd2ff04a1f01ed9eb3897e5430': 0.7931292057037354,\n",
       "  '4e9f5ce6bc219f83c2ae0f2c8627e561': 0.7931050658226013,\n",
       "  'b762680c4c98b652e9dbd34118555cf2': 0.7930195331573486,\n",
       "  'c2d3d4720ada193d1d61fb300ca842b3': 0.7929878830909729},\n",
       " 'C_226_1': {'42f74c04d3d8f1d7e95fc7158d942756': 0.8688411116600037,\n",
       "  '094296b5529f2a888ba92132209e9712': 0.8537912368774414,\n",
       "  '8214445aa2976da0ee80e1903f1b6c5a': 0.851190447807312,\n",
       "  'faf1a1763434812acbf7e6ddd79e9c6e': 0.8480359315872192,\n",
       "  '67cce9b0576c0f374d45f6cf8216d45b': 0.8462707996368408,\n",
       "  'b3552a2a55d6d882aad91efc974d8014': 0.8457367420196533,\n",
       "  '83a1e378c3e06eb08bb5742db7a63d25': 0.8436121940612793,\n",
       "  'd053c003d68cf75f0cf527ac77762263': 0.8434250354766846,\n",
       "  'd26058f4fd8018ad3931dd353e289d7f': 0.8418697118759155,\n",
       "  '66c5f8fa7a1e1460429b7ce572247041': 0.8416143655776978,\n",
       "  '4c77d0ad08e470b204d6371bfdd73350': 0.8409074544906616,\n",
       "  'b4013bd5059f12dc2f096533cefe00a4': 0.8397189974784851,\n",
       "  '2b4a106beceb94c92446cff00dc305a3': 0.8395674228668213,\n",
       "  'b4419c88e9a2390b615c1453520f5002': 0.837489902973175,\n",
       "  'b6f945c99911315c6b7bf85ab62c712c': 0.8370649814605713,\n",
       "  'a193a69702edbda8186f104e57e07bd6': 0.8332445025444031,\n",
       "  'c434d3dc5b1cd9a62f4d95ab6bce0fee': 0.8308601379394531,\n",
       "  '833e8d86895266976af0f20c39128f2f': 0.8292988538742065,\n",
       "  'd344972e4c250869f75f4544324a8e7d': 0.827515721321106,\n",
       "  '872c2876fb574a0e61259eca7b925eaa': 0.8273954391479492,\n",
       "  'e5c22d939439af472002504480d21bfd': 0.8269648551940918,\n",
       "  'b045d830a433d04139bf7ff2d0befeb4': 0.8255847096443176,\n",
       "  '325a66c8768108b2f24ae3f678bda36c': 0.8227919340133667,\n",
       "  '36b13cc4595ff27fb0a2f76c953243ce': 0.8209148645401001,\n",
       "  '6d6af8cd7b18526fe6caefc883546598': 0.8193961381912231,\n",
       "  'c41daa16c87baa6cccee3a399ca41bb9': 0.8186530470848083,\n",
       "  '2c8203bfffe6f20bd8ed3cb2ac4bc5db': 0.8178483247756958,\n",
       "  'b563393051c63af64c773fbc69e48db9': 0.8164649605751038,\n",
       "  '17d7f26a0af80c64e7a238e8ac54ccec': 0.8144662976264954,\n",
       "  '2afc9872d3f210017eeb686a938085a6': 0.8138637542724609,\n",
       "  '444adc911a317ff4a05323ed1ea2bc9a': 0.8130886554718018,\n",
       "  'f1b04d8642fde6fbf592815146eefd77': 0.812157392501831,\n",
       "  'c4105f756a43c59d5292fec57088be84': 0.8095522522926331,\n",
       "  'cd9253c583cd4ab435737a97b8326b52': 0.8095479011535645,\n",
       "  'dd28ed9c2fc5ca1fe32ab213bedc2a1a': 0.8087378740310669,\n",
       "  '09325f19949f1f7142159a83911e7172': 0.8084473609924316,\n",
       "  'b830fad5830398019dc83e0163f4ea6b': 0.8079955577850342,\n",
       "  'cfd106e65557a99c8a6cbcacfbb3d3d1': 0.8077391386032104,\n",
       "  'e112079031707a12c78f6d193995cdd8': 0.8060790300369263,\n",
       "  '12c38aac6f5c28db1fd6830f25aeb0e0': 0.8057777285575867,\n",
       "  'a8124f2c09cdb8fac43046e6947fbd41': 0.8049409985542297,\n",
       "  'b63c7c416d8fe6aba85c475037b0c1ec': 0.8049015998840332,\n",
       "  'f7ce24c73d4ce0f1c06f9c9b2fe028c4': 0.804374098777771,\n",
       "  '7de3fecd651fbd1a4c77dcbd895a4f50': 0.8042783737182617,\n",
       "  '5da581a463aac601a340b51802fb7c00': 0.8041970729827881,\n",
       "  '712a544f11a80c17192f944d3b45c379': 0.8035229444503784,\n",
       "  '8f52bbf8587ef6199dd08746b9bef053': 0.80339515209198,\n",
       "  '1cd4c4973ce1605f3bdc6301fbf3031b': 0.8030271530151367,\n",
       "  'ddfbe250cb8bdd57babcd9bbd6d1cbcd': 0.8027811050415039,\n",
       "  '0213ce07a58bd04c2672d51ed4abc9d5': 0.8025953769683838}}"
      ]
     },
     "execution_count": 18,
     "metadata": {},
     "output_type": "execute_result"
    }
   ],
   "source": [
    "retrieved_results # {qid: {modality: [ref1_id: score, ref2_id: score]}}\n",
    "retrieved_reference # {qid: {modality: [ref1_content, ref2_content]}}"
   ]
  },
  {
   "cell_type": "code",
   "execution_count": 19,
   "metadata": {},
   "outputs": [
    {
     "data": {
      "text/plain": [
       "[' Champions League Third qualifying round Champions League Third qualifying round Champions League Third qualifying round Champions League Third qualifying round Champions League Third qualifying round Champions League Third qualifying round Champions League Third qualifying round 13 August Ibrox Stadium, Glasgow (H) FC Copenhagen 1–1 Peter Løvenkrands [http://newswww.bbc.net.uk/sport2/hi/football/champions_league/3144241.stm BBC Sport]  27 August Parken Stadium, Copenhagen (A) FC Copenhagen 2–1 Mikel Arteta (pen.), Shota Arveladze [http://news.bbc.co.uk/sport1/hi/football/champions_league/3181775.stm BBC Sport]  Champions League Group stage Champions League Group stage Champions League Group stage Champions League Group stage Champions League Group stage Champions League Group stage Champions League Group stage 16 September Ibrox Stadium, Glasgow (H) VfB Stuttgart 2–1 Christian Nerlinger, Peter Løvenkrands [http://news.bbc.co.uk/sport1/hi/football/champions_league/3110018.stm BBC Sport]  1 October Olympic Stadium (A) Panathinaikos 1–1 Emerson Moisés Costa [http://newswww.bbc.net.uk/sport1/hi/football/champions_league/3151164.stm BBC Sport]  22 October Ibrox Stadium, Glasgow (H) Manchester United 0–1  [http://news.bbc.co.uk/sport2/hi/football/champions_league/3210020.stm BBC Sport]  4 November Old Trafford, Manchester (A) Manchester United 0–3  [http://news.bbc.co.uk/sport1/hi/football/champions_league/3236621.stm BBC Sport]  26 November Gottlieb-Daimler-Stadion, Stuttgart (A) VfB Stuttgart 0–1  [http://newswww.bbc.net.uk/sport1/hi/football/champions_league/3236758.stm BBC Sport]  9 December Ibrox Stadium, Glasgow (H) Panathinaikos 1–3 Michael Mols [http://newswww.bbc.net.uk/sport1/hi/football/champions_league/3300789.stm BBC Sport] ',\n",
       " ' Bolungarvík Grundarfjörður 2 - 3 HV Isafjörður Vikingur Olafsvik 0 - 2 UMF Grindavík Stokkseyri 3 - 1 Hekla Hellu UMF Njarðvík (D2) 0 - 12 Víðir Garður (D3) Hamar Hveragerði 7 - 0 UMF Skallagrímur (D2) FH Hafnarfjörður (D2) 0 - 1 IK Kopavogur Stjarnan Gardabaer 4 - 3 Reynir Hn Augnabliík 0 - 5 Höttur Egilsstaðir Einherji (D2) 0 - 3 Reynir Sandgerði Fylkir Reykjavik (D2) 1 - 0 Huginn Seyðisfjörður Valur Reyðarfjörður 7 - 1 Sindri þrottur Norðfjörður (D2) 0 - 6 Haukar Hafnarfjörður (D3) Armann Reykjavik (D4) 0 - 1 Afturelding Mosfellsbær UMF Selfoss (D3) 3 - 1 Snaefell þrottur Reykjavik (D2) 1 - 2',\n",
       " ' 1999 UEFA Intertoto Cup 1R  Hradec Králové 0–1 (A) 1–0 (p. 2–1) (H) 1999 UEFA Intertoto Cup 2R  Hammarby 0–4 (A) 2–2 (H) 2000–01 UEFA Cup QR  AIK 0–1 (A) 0–2 (H) 2002–03 UEFA Cup QR  HJK Helsinki 1–0 (H) 4–0 (A) 2002–03 UEFA Cup 1R  Schalke 04 1–4 (H) 0–4 (A) 2004–05 UEFA Champions League 1Q  Tirana 0–2 (H) 1–0 (A) 2008–09 UEFA Cup 1Q  Legia Warsaw 0–0 (A) 1–4 (H) 2011–12 UEFA Europa League 3Q  Bursaspor 1–2 (A) 1–3 (H) 2012–13 UEFA Europa League 1Q  Víkingur 6–0 (A) 4–0 (H) 2012–13 UEFA Europa League 2Q  Renova 2–0 (A) 0–1 (H) 2012–13 UEFA Europa League 3Q  Liverpool 0–1 (H) 0–3 (A)',\n",
       " ' þor Akureyri (D2) Héraðssamband Þingeyinga 4-2 UMF Skallagrimur ÍB Ísafjörður (D2) 0-3 Magni Grenivík (D2) Svarfdaelir 6 - 7 Leiknir Reykjavik UMF Selfoss (D2) 1 - 0 Súlan Haukar Hafnarfjörður 3 - 1 Hekla þrottur Norðfjörður (D2) 0 - 2 KS Siglufjörður Arroðin A. 2-1 Reynir Árskógsströnd Tindastóll Sauðárkrókur 0-5 Armann Reykjavik (D3) Víðir Garður 3-1 Fylkir Reykjavik (D2) UMF Grindavík 2-1 Breiðablik Kopavogur (D2) Stjarnan Gardabaer 3-1 Hekla Grótta Seltjarnarnes 1-7 Einherji Austri Eskifjörður (D2) 1-3',\n",
       " ' Southern League Rangers North-Eastern League (Autumn) Aberdeen North-Eastern League (Spring) Aberdeen Glasgow Cup Rangers Renfrewshire Cup Morton Southern League Cup Rangers Summer Cup St Mirren North-Eastern League Cup (Autumn) Aberdeen North-Eastern League Cup (Spring) Dundee United East of Scotland Shield Hibernian',\n",
       " \" 1 25 October 2008 ARVI Football Arena, Marijampolė, Lithuania  2–1 4–1 UEFA friendly competition [http://www.kvinnufotbolt.com/index.php?option=com_content&view=article&id=77&Itemid=106 www.kvinnufotbolt.com] Litava - Føroyar 2 27 October 2008 ARVI Football Arena, Marijampolė, Lithuania  1–0 6–2 UEFA friendly competition [http://www.kvinnufotbolt.com/index.php?option=com_content&view=article&id=78&Itemid=107 www.kvinnufotbolt.com] Føroyar - Luxembourg 3 27 October 2008 ARVI Football Arena, Marijampolė, Lithuania  3–1 6–2 UEFA friendly competition [http://www.kvinnufotbolt.com/index.php?option=com_content&view=article&id=78&Itemid=107 www.kvinnufotbolt.com] Føroyar - Luxembourg 4 15 May 2008 Luxembourg, Luxembourg  4–1 4–2 UEFA friendly competition [http://www.kvinnufotbolt.com/index.php?option=com_content&view=article&id=81&Itemid=110 www.kvinnufotbolt.com] Letland - Føroyar 5 11 April 2009 Sportski park Podravac, Virje, Croatia  1–1 3–1 UEFA friendly competition [http://www.kvinnufotbolt.com/index.php?option=com_content&view=article&id=73&Itemid=102 www.kvinnufotbolt.com] Kroatia - Føroyar 6 13 April 2009 NK Pitomača, Pitomača, Croatia  2–2 2–3 UEFA friendly competition [http://www.kvinnufotbolt.com/index.php?option=com_content&view=article&id=74&Itemid=103 www.kvinnufotbolt.com] Føroyar - Bosnia 7 16 April 2009 Gradski stadion, Križevci, Croatia  2–1 3–1 UEFA friendly competition [http://www.kvinnufotbolt.com/index.php?option=com_content&view=article&id=75&Itemid=104 www.kvinnufotbolt.com] Litava - Føroyar 8 4 April 2013 LFF Stadium, Vilnius, Lithuania  1–1 3–3 2015 FIFA Women's World Cup Qual. - UEFA Preliminary Round [http://www.kvinnufotbolt.com/index.php?option=com_content&view=article&id=765&Itemid=363 www.kvinnufotbolt.com] Føroyar - Montenegro 9 4 April 2013 LFF Stadium, Vilnius, Lithuania  3–3 3–3 2015 FIFA Women's World Cup Qual. - UEFA Preliminary Round [http://www.kvinnufotbolt.com/index.php?option=com_content&view=article&id=765&Itemid=363 www.kvinnufotbolt.com] Føroyar - Montenegro 10 9 April 2013 LFF Stadium, Vilnius, Lithuania  1–0 2–1 2015 FIFA Women's World Cup Qual. - UEFA Preliminary Round [http://www.kvinnufotbolt.com/index.php?option=com_content&view=article&id=768&Itemid=365 www.kvinnufotbolt.com] Føroyar - Georgia 11 9 April 2013 LFF Stadium, Vilnius, Lithuania  2–1 2–1 2015 FIFA Women's World Cup Qual. - UEFA Preliminary Round [http://www.kvinnufotbolt.com/index.php?option=com_content&view=article&id=768&Itemid=365 www.kvinnufotbolt.com] Føroyar - Georgia 12 22 September 2013 Tórsvøllur, Tórshavn, Faroe Islands  1–7 2–7 2015 FIFA Women's World Cup qualification – UEFA Group 4  13 22 September 2013 Tórsvøllur, Tórshavn, Faroe Islands  2–7 2–7 2015 FIFA Women's World Cup qualification – UEFA Group 4  14 6 April 2015 Victor Tedesco Stadium, Ħamrun, Malta  3–0 8–0 UEFA Women's Euro 2017 qualifying preliminary round  15 6 April 2015 Victor Tedesco Stadium, Ħamrun, Malta  4–0 8–0 UEFA Women's Euro 2017 qualifying preliminary round  16 9 April 2015 Victor Tedesco Stadium, Ħamrun, Malta  3–2 4–2 UEFA Women's Euro 2017 qualifying preliminary round  17 9 April 2015 Victor Tedesco Stadium, Ħamrun, Malta  4–2 4–2 UEFA Women's Euro 2017 qualifying preliminary round \",\n",
       " \" 1994–95 UEFA Cup PR Trelleborgs 0–1 2–3 2–4 1995–96 UEFA Cup PR Raith Rovers 2–2 0–4 2–6 1996–97 UEFA Cup PR FC Jazz 0–1 1–3 1–4 1997–98 UEFA Champions League 1Q Rangers 0–5 0–6 0–11 1998–99 UEFA Cup Winners' Cup 1Q MTK Budapest 1–3 0–7 1–10 1999 UEFA Intertoto Cup 1Q Jedinstvo Bihać 1–0 0–3 1–3 2000–01 UEFA Cup 1Q Norrköping 0–2 1–2 1–4 2001–02 UEFA Cup 1Q FK Obilić 1–1 0–4 1–5 2002–03 UEFA Cup 1Q Hajduk Split 0–8 0–3 0–11 2003 UEFA Intertoto Cup 1Q Dacia Chişinău 0–1 1–4 1–5 2006–07 UEFA Cup 1Q Ventspils 0–2 1–2 1–4\",\n",
       " ' 7 September Pittodrie, Aberdeen (H)  4–1 WCQG4 Kevin Gallacher (2), David Hopkin (2) 11 October Celtic Park, Glasgow (H)  2–0 WCQG4 Kevin Gallacher, Gordon Durie 12 November Stade Geoffroy-Guichard, St Etienne (A) France 1–2 Friendly Gordon Durie 25 March Ibrox Stadium, Glasgow (H) Denmark 0–1 Friendly  22 April Easter Road, Edinburgh (H) Finland 1–1 Friendly Darren Jackson 23 May Giants Stadium, East Rutherford NJ (A) Colombia 2–2 Friendly John Collins, Craig Burley 30 May RFK Memorial Stadium, Washington DC (A) USA 0–0 Friendly  10 June Stade de France, Saint-Denis (N) Brazil 1–2 WCGA John Collins (pen.) 16 June Stade Lescure, Bordeaux (N) Norway 1–1 WCGA Craig Burley 23 June Stade Geoffroy-Guichard, St Etienne (N) Morocco 0–3 WCGA ',\n",
       " ' Aberdeenshire Cup Keith   Ayrshire Cup Ayr United 2 – 1 Kilmarnock East of Scotland Shield Hearts 3 – 0 Hibernian Fife Cup Dunfermline Athletic 6 – 3 Raith Rovers Forfarshire Cup Arbroath 3 – 2 Forfar Athletic Glasgow Cup Rangers 4 – 2 Third Lanark Lanarkshire Cup Motherwell 5 – 4 Airdrie Renfrewshire Cup Morton   Stirlingshire Cup Alloa Athletic 6 – 5 Stenhousemuir',\n",
       " \" Williams W Connection St. Ann's Rangers 5–0 12 December 2015  Gay San Juan Jabloteh Club Sando 0–6 15 December 2015  Lewis Police St. Ann's Rangers 1–6 16 December 2015  Jorsling Defence Force North East Stars 6–1 19 December 2015  Balthazar Defence Force Morvant Caledonia United 8–0 9 January 2016  Marcano Central FC Point Fortin Civic 7–0 15 January 2016  Balthazar 4 Defence Force St. Ann's Rangers 4–0 15 January 2016  Freitas Police Morvant Caledonia United 5–0 19 January 2016  Baptiste North East Stars Police 5–2 6 March 2016 \",\n",
       " ' 1. 29 May 2010 Råsunda Stadium, Solna, Sweden  1–0 4–2 Friendly 2. 11 August 2010 Råsunda Stadium, Solna, Sweden  3–0 3–0 Friendly 3. 3 June 2011 Zimbru Stadium, Chişinău, Moldavia  1–0 4–1 UEFA Euro 2012 qualification 4. 11 October 2011 Råsunda Stadium, Solna, Sweden  3–2 3–2 UEFA Euro 2012 qualification 5. 30 May 2012 Gamla Ullevi, Gothenburg, Sweden  2–0 3–2 Friendly 6. 5 June 2012 Råsunda Stadium, Solna, Sweden  1–0 2–1 Friendly 7. 5 March 2014 Ankara 19 Mayıs Stadium, Ankara, Turkey  1–1 1–2 Friendly 8. 9 October 2014 Friends Arena, Solna, Sweden  1–1 1–1 UEFA Euro 2016 qualification 9. 31 March 2015 Friends Arena, Solna, Sweden  3–1 3–1 Friendly 10. 10 October 2016 Friends Arena, Solna, Sweden  1–0 3–0 2018 FIFA World Cup qualification 11. 9 June 2017 Friends Arena, Solna, Sweden  2–1 2–1 2018 FIFA World Cup qualification 12. 7 October 2017 Friends Arena, Solna, Sweden  8–0 8–0 2018 FIFA World Cup qualification 13. 24 March 2018 Friends Arena, Solna, Sweden  1–1 1–2 Friendly 14. 23 June 2018 Fisht Olympic Stadium, Sochi, Russia  1–0 1–2 2018 FIFA World Cup',\n",
       " ' 1 Guðmundur Steinn Hafsteinsson Víkingur Ó. 10 20 0.50 2 Hjörtur Július Hjartarson Víkingur R. 9 20 0.45 2 Ólafur Hrannar Kristjánsson Leiknir R. 9 20 0.45 2 Ármann Pétur Ævarsson Þór A. 9 21 0.43 2 Sigurður Egill Lárusson Víkingur R. 9 21 0.43 6 Elvar Þór Ægisson Höttur 8 22 0.36 7 Ben Everson Tindastóll 7 10 0.70 7 Helgi Pétur Magnússon Þróttur 7 16 0.44 7 Davíð Einarsson Höttur 7 17 0.41 7 Hallgrímur Mar Steingrímsson KA 7 21 0.33',\n",
       " ' FH 2008 Úrvalsdeild 11 0 7 1 3 1 21 2 FH 2009 Úrvalsdeild 17 4 8 3 2 0 27 7 FH 2010 Úrvalsdeild 19 6 13 2 2 0 34 8 FH 2011 Úrvalsdeild 19 4 9 0 2 0 30 4 FH 2012 Úrvalsdeild 21 9 9 3 4 0 34 12 FH 2013 Úrvalsdeild 21 9 9 1 6 2 36 12 Viking FK 2014 Tippeligaen 29 6 5 3 - - 34 9 Viking FK 2015 Tippeligaen 8 1 0 0 - - 8 1 Viking FK 2016 Tippeligaen 11 2 0 0 - - 11 2 Career Total Career Total Career Total 156 41 60 13 19 3 229 56',\n",
       " ' 1. Färjestads BK 40 28 3 9 196 117 59 2. Djurgårdens IF 40 23 6 11 158 119 52 3. Luleå HF 40 21 2 17 159 163 44 4. Brynäs IF 40 20 3 17 175 160 43 5. Leksands IF 40 19 4 17 165 140 42 6. Södertälje SK 40 19 1 20 147 159 39 7 Västerås IK 40 17 5 18 135 147 39 8. AIK 40 17 1 22 186 179 35 9. HV 71 Jönköping 40 16 3 21 131 161 35 10. Västra Frölunda 40 13 2 25 154 202 28',\n",
       " ' 1 Ingimundur Níels Óskarsson FH 9 2 Kristján Gauti Emilsson FH 7 3 Veigar Páll Gunnarsson Stjarnan 6 4 Aron Bjarki Jósepsson KR 5 4 Árni Vilhjálmsson Breiðablik 5 4 Emil Pálsson FH 5 4 Ragnar Leósson Fjölnir 5 4 Hilmar Árni Halldórsson Leiknir 5 4 Andri Björn Sigurðsson Þróttur 5',\n",
       " ' HC Bolzano 1:4 Leksands IF Manchester Storm 4:2 Ilves HC Bolzano 1:2 Manchester Storm Ilves 2:3 Leksands IF HC Bolzano 2:6 Ilves Leksands IF 2:3  (OT) Manchester Storm Manchester Storm 2:3  (OT) Leksands IF Ilves 5:2 HC Bolzano Leksands IF 2:4 Ilves Manchester Storm 2:5 HC Bolzano Leksands IF 6:3 HC Bolzano Ilves 7:3 Manchester Storm',\n",
       " ' 3 August 2015 Friendly  National Team Complex, Shefayim 4–0 Raz Itzhak (2), Idan Nahmias, Ibrahim Sfuri 5 August 2015 Friendly  National Team Complex, Shefayim 3–3 Raz Itzhak (2), Noam Gamon 3 September 2015 Tournament Cele  Gradski Stadion, Subotica 0–1 [http://www.subotica.com/vesti/fudbaleri-srbije-na-startu-turnira-stevan-cele-vilotic-bolji-od-sad-3-1-id23741.html Fudbaleri Srbije na startu turnira \"Stevan Ćele Vilotić\" bolji od SAD (3:1)] 4 September 2015, Subotica.com  4 September 2015 Tournament Cele  Gradski Stadion, Bačka Topola 0–2 [http://www.subotica.com/vesti/omladinci-srbije-protiv-crne-gore-za-trece-mesto-na-turniru-stevan-cele-vilotic-id23752.html  Omladinci Srbije protiv Crne Gore za treće mesto na turniru \"Stevan Ćele Vilotić\"] 6 September 2015, Subotica.com  6 September 2015 Tournament Cele  Gradski Stadion, Bačka Topola 0–2 [http://www.subotica.com/vesti/ukrajina-francuska-srbija-konacan-plasman-na-22.-turniru-stevan-cele-vilotic-id23771.html Ukrajina, Francuska, Srbija - konačan plasman na 22. turniru \"Stevan Ćele Vilotić\"] 8 September 2015, Subotica.com  12 October 2015 Friendly  National Team Complex, Shefayim 3–1 Raz Itzhak (2), Anas Mahamid 14 October 2015 Friendly  National Team Complex, Shefayim 0–0  10 November 2015 2016 U-19 Euro qual. round  Victor Tedesco Stadium, Ħamrun 3–1 Anas Mahamid (2), Ibrahim Sfuri 12 November 2015 2016 U-19 Euro qual. round  Victor Tedesco Stadium, Ħamrun 4–1 Anas Mahamid (3), Eylon Yerushalmi 15 November 2015 2016 U-19 Euro qual. round  Victor Tedesco Stadium, Ħamrun 0–0  15 February 2016 Friendly  Afula Illit Stadium, Afula 1–0 Eden Hershkovitz 14 October 2015 Friendly  National Team Complex, Shefayim 1–1 Ibrahim Sfuri 25 March 2016 2016 U-19 Euro elite round  Stadio Euganeo, Padua 0–4  27 March 2016 2016 U-19 elite round  Stadio Romeo Menti, Vicenza 0–1  30 March 2016 2016 U-19 Euro elite round  Stadio Euganeo, Padua 2–0 Dor Galili, Own goal',\n",
       " ' 1 Jordan Follows Hamar 12 1 Eiríkur Þór Bjarkason Hvíti riddarinn 12 3 Sam Malsom Hamar 10 3 Hrannar Einarsson Hamar 10 5 Axel Fannar Sveinsson Kría 9 6 Magnús Ingi Einarsson Hörður Í. 8 6 Pétur Theódór Árnason Kría 8 6 Viðar Þór Sigurðsson Kría 8 6 Tómas Ingvi Hassing Hamar 8 6 Felix Rein Grétarsson Hörður Í. 8',\n",
       " ' 2000–01 Oslo Kings 3–2 Kongsberg Penguins 2001–02 Asker Aliens 3–0 Kongsberg Penguins 2002–03 Asker Aliens 3–0 Harstad Vikings 2003–04 Bærum Basket 3–2 Harstad Vikings 2004–05 Asker Aliens 3–0 Harstad Vikings 2005–06 Harstad Vikings 3–2 Asker Aliens 2006–07 Ulriken Eagles 3–1 Harstad Aliens 2007–08 Asker Aliens 3–0 Harstad Vikings 2008–09 Ulriken Eagles 3–2 Tromsø Storm 2009–10 Asker Aliens 3–1 Tromsø Storm 2010–11 Bærum Basket 3–2 Tromsø Storm 2011–12 Frøya Basket 80–78 Asker Aliens 2012–13 Bærum Basket 81–65 Tromsø Storm 2013–14 Gimle Basket 102–68 Ammerud Basket 2014–15 Asker Aliens 81–75 Bærum Basket 2015–16 Centrum Tigers 85–71 Tromsø Storm 2016–17 Centrum Tigers 87–74 Gimle Basket 2017–18 Kongsberg Miners 2–1 Asker Aliens 2018–19 Kongsberg Miners 2–1 Gimle Basket',\n",
       " ' 1 21 November 1956 Hampden Park, Glasgow  1–0 2–0 Friendly 2 8 May 1957 Hampden Park, Glasgow  1–0 4–2 WCQG9 3 8 May 1957 Hampden Park, Glasgow  3–2 4–2 WCQG9 4 8 May 1957 Hampden Park, Glasgow  4–2 4–2 WCQG9 5 19 May 1957 St. Jakob-Park, Basel  1–1 2–1 WCQG9 6 22 May 1957 Neckarstadion, Stuttgart  2–0 3–1 Friendly 7 6 November 1957 Hampden Park, Glasgow  2–1 3–2 WCQG9 8 7 May 1958 Hampden Park, Glasgow  1–0 1–1 Friendly 9 11 June 1958 Idrottsparken, Norrköping  1–1 2–3 WCG2',\n",
       " ' 1 BK Häcken 30 19 8 3 60 - 31 +29 65 2 Gefle IF 30 17 7 6 50 - 28 +22 58 3 Assyriska Föreningen 30 17 3 10 48 - 39 +9 54 4 IFK Norrköping 30 14 8 8 58 - 37 21 50 5 Östers IF 30 14 8 8 51 - 36 +15 50 6 GAIS 30 13 10 7 45 - 40 +5 49 7 Åtvidabergs FF 30 14 6 10 55 - 47 +8 48 8 Västerås SK 30 12 8 10 47 - 47 0 44 9 FC Café Opera Djursholm 30 10 10 10 45 - 39 +6 40 10 IF Brommapojkarna 30 9 9 12 43 - 42 +1 36 11 Västra Frölunda IF 30 10 6 14 40 - 48 -8 36 12 Falkenbergs FF 30 8 5 17 30 - 52 -22 29 13 Bodens BK 30 5 13 12 32 - 40 -8 28 14 Enköpings SK 30 5 11 14 31 - 44 -13 26 15 IK Brage 30 5 10 15 41 - 62 -21 25 16 Friska Viljor FC 30 6 2 22 30 - 74 -44 20',\n",
       " ' Thiago Quirino da Silva 2 Stefan Batan 1 August Bergman 1 Tobias Forsberg 1 Philip Hellquist 1 Andrej Komac 1 Jones Kusi-Asare 1 Nebojša Marinković 1 Sölvi Ottesen 1 Robbin Sellin 1',\n",
       " ' 1. Luleå HF 22 15 1 6 88 59 31 2. Djurgårdens IF 22 11 4 7 75 59 26 3. Västra Frölunda 22 11 4 7 71 56 26 4. HV 71 Jönköping 22 11 3 8 91 72 25 5. Malmö IF 22 10 5 7 82 77 25 6. Leksands IF 22 9 5 8 63 61 23 7. Västerås IK 22 9 4 9 80 86 22 8 Modo Hockey 22 8 4 10 64 80 20 9. Färjestads BK 22 8 3 11 76 68 19 10. AIK 22 7 4 11 55 76 18 11. Rögle BK 22 6 5 11 55 80 17 12. Brynäs IF 22 3 6 13 60 86 12',\n",
       " \" Frederick W Connection St. Ann's Rangers 0–7 14 September 2013  McFee St. Ann's Rangers San Juan Jabloteh 6–5 20 September 2013  Baptiste San Juan Jabloteh St. Ann's Rangers 6–5 20 September 2013  Caesar North East Stars Defence Force 1–3 8 October 2013  Winchester Central FC Point Fortin Civic 3–0 22 October 2013  Edwards Caledonia AIA St. Ann's Rangers 1–6 1 November 2013  Joseph Point Fortin Civic Police 5–0 18 January 2014  Joseph Point Fortin Civic St. Ann's Rangers 0–3 21 January 2014  Plaza Central FC St. Ann's Rangers 6–0 21 February 2014  Apai W Connection Police 6–1 8 April 2014  Plaza Central FC Caledonia AIA 4–1 8 April 2014  Belgrave Defence Force Caledonia AIA 4–0 25 April 2014 \",\n",
       " ' 1 Rangers 38 29 6 3 78 22 56 93 UEFA Champions League 2005–06 Third qualifying round 2 Celtic 38 30 2 6 85 35 50 92 UEFA Champions League 2005–06 Second qualifying round 3 Hibernian 38 18 7 13 64 57 7 61 UEFA Cup 2005–06 First round 4 Aberdeen 38 18 7 13 44 39 5 61  5 Heart of Midlothian 38 13 11 14 43 41 2 50  6 Motherwell 38 13 9 16 46 49 -3 48  7 Kilmarnock 38 15 4 19 49 55 -6 49  8 Inverness CT 38 11 11 16 41 47 -6 44  9 Dundee United 38 8 12 18 41 59 -18 36 2003-04 UEFA Cup First round 10 Livingston 38 9 8 21 34 61 -27 35  11 Dunfermline Athletic 38 8 10 20 34 60 -26 34  12 Dundee 38 8 9 21 37 71 -34 33 Relegated to 2005–06 First Division',\n",
       " ' 17-Sep-75 Hibernian A 0–1  19,219 [http://www.lfchistory.net/SeasonArchive/Game/867 Report] [http://www.liverweb.org.uk/report.asp?rec_id=3960 Report] 30-Sep-75 Hibernian H 3–1 Toshack 29,963 [http://www.lfchistory.net/SeasonArchive/Game/870 Report] [http://www.liverweb.org.uk/report.asp?rec_id=3961 Report] 22-Oct-75 Real Sociedad A 3–1 Heighway  Callaghan  Thompson 16,256 [http://www.lfchistory.net/SeasonArchive/Game/876 Report] [http://www.liverweb.org.uk/report.asp?rec_id=3962 Report] 04-Nov-75 Real Sociedad H 6–0 Toshack  Kennedy  Fairclough  Heighway  Neal 23,796 [http://www.lfchistory.net/SeasonArchive/Game/879 Report] [http://www.liverweb.org.uk/report.asp?rec_id=3963 Report] 26-Nov-75 Śląsk Wrocław A 2–1 Kennedy  Toshack 40,000 [http://www.lfchistory.net/SeasonArchive/Game/883 Report] [http://www.liverweb.org.uk/report.asp?rec_id=3964 Report] 10-Dec-75 Śląsk Wrocław H 3–0 Case 17,886 [http://www.lfchistory.net/SeasonArchive/Game/887 Report] [http://www.liverweb.org.uk/report.asp?rec_id=3965 Report] 03-Mar-76 Dynamo Dresden A 0–0  32,182 [http://www.lfchistory.net/SeasonArchive/Game/902 Report] [http://www.liverweb.org.uk/report.asp?rec_id=3966 Report] 17-Mar-76 Dynamo Dresden H 2–1 Case  Keegan 39,300 [http://www.lfchistory.net/SeasonArchive/Game/905 Report] [http://www.liverweb.org.uk/report.asp?rec_id=3967 Report] 30-Mar-76 Barcelona A 1–0 Toshack 70,000 [http://www.lfchistory.net/SeasonArchive/Game/908 Report] [http://www.liverweb.org.uk/report.asp?rec_id=3968 Report] 14-Apr-76 Barcelona H 1–1 Thompson 55,104 [http://www.lfchistory.net/SeasonArchive/Game/912 Report] [http://www.liverweb.org.uk/report.asp?rec_id=3969 Report]',\n",
       " ' 1. Malmö IF 22 16 2 4 98 53 34 2. Färjestads BK 22 13 3 6 107 77 29 3. Djurgårdens IF 22 10 5 7 79 63 25 4. Luleå HF 22 9 7 6 88 89 25 5. Västra Frölunda 22 9 5 8 86 78 23 6. HV 71 Jönköping 22 10 3 9 77 72 23 7 AIK 22 11 1 10 68 72 23 8. Brynäs IF 22 9 3 10 78 73 21 9. Västerås IK 22 9 2 11 65 63 20 10. Modo Hockey 22 5 6 11 60 93 16 11. Leksands IF 22 3 9 10 64 92 15 12. Södertälje SK 22 4 2 16 54 99 10',\n",
       " \" 1 3 September Partick Thistle A 1–4  6,000 2 10 September Celtic H 2–1  12,000 3 17 September Dundee A 4–2  5,000 4 24 September St Bernard's H 4–3  4,000 5 26 September Celtic A 2–1  12,000 6 1 October Clyde A 2–2  4,000 7 8 October Heart of Midlothian A 0–4  14,000 8 15 October Dundee H 5–0  2,000 9 22 October St Mirren H 4–3  17,000 10 29 October 1898 Heart of Midlothian H 1–5  11,000 11 5 November Third Lanark A 1–4  3,000 12 12 November St Bernard's A 3–1  2,000 13 19 November Rangers H 3–4  10,000 14 26 November St Mirren A 0–2  3,500 15 3 December Third Lanark H 1–1  3,000 16 10 December Partick Thistle H 1–1  5,000 17 17 December Clyde H 2–1  1,000 18 24 December Rangers A 0–10  7,000\",\n",
       " ' GK Allan McGregor Rangers 3 DF Mark Wilson Celtic 1 DF Marius Žaliūkas Heart of Midlothian 1 DF Madjid Bougherra Rangers 2 DF Emilio Izaguirre Celtic 1 MF Steven Naismith Rangers 2 MF Beram Kayal Celtic 1 MF Alexei Eremenko Kilmarnock 1 FW David Goodwillie Dundee United 1 FW Conor Sammon Kilmarnock 1 FW Gary Hooper Celtic 1',\n",
       " ' Alloa Athletic 1 – 0 Queen of the South Berwick Rangers 1 – 0 Cowdenbeath Brechin City 0 – 1 Albion Rovers Clydebank 0 – 1 Stranraer Deveronvale 0 – 0 Spartans East Stirlingshire 0 – 0 Forres Mechanics Forfar Athletic 2 – 0 Threave Rovers Gala Fairydean 1 – 0 Stirling Albion Hamilton Academical 4 – 0 Montrose Queen’s Park 0 – 0 East Fife',\n",
       " ' Alloa Athletic 1 – 3 Clyde Berwick Rangers 7 – 0 East Stirlingshire East Fife 0 – 3 Queen of the South Fraserburgh 5 – 4 Leith Athletic Inverness Thistle 3 – 3 Hamilton Academical Montrose 0 – 1 Peebles Rovers Greenock Morton 3 – 2 Dundee United Partick Thistle 1 – 0 Airdrieonians Rangers 2 – 0 Queen’s Park St Johnstone 1 – 2 Hibernian St Mirren 1 – 2 Motherwell Stirling Albion 2 – 1 Dumbarton Stranraer 1 – 4 Dunfermline Athletic Third Lanark 2 – 2 Stenhousemuir',\n",
       " ' 9 September 1981 Hampden Park, Glasgow (H) Sweden 2–0 WCQG6 Joe Jordan, John Robertson (pen.) 14 October 1981 Windsor Park, Belfast (A) Northern Ireland 0–0 WCQG6  18 November 1981 Estadio da Luz, Lisbon (A) Portugal 1–2 WCQG6 Paul Sturrock 24 February 1982 Estadio Luis Casanova, Valencia (A) Spain 0–3 Friendly  23 March 1982 Hampden Park, Glasgow (H) Netherlands 2–1 Friendly Frank Gray (pen.), Kenny Dalglish 28 April 1982 Windsor Park, Belfast (A) Northern Ireland 1–1 BHC John Wark 24 May 1982 Hampden Park, Glasgow (H) Wales 1–0 BHC Asa Hartford 29 May 1982 Hampden Park, Glasgow (H) England 0–1 BHC  15 June 1982 Estadio La Rosaleda, Málaga (N) New Zealand 5–2 WCG6 John Wark (2), John Robertson, Kenny Dalglish, Steve Archibald 18 June 1982 Estadio Sanchez Pizjuan, Seville (N) Brazil 1–4 WCG6 David Narey 22 June 1982 Estadio La Rosaleda, Málaga (N) USSR 2–2 WCG6 Joe Jordan, Graeme Souness',\n",
       " ' Breiðablik Kópavogur Kópavogsvöllur 3,009 FH Hafnarfjörður Kaplakriki 6,450 Fylkir Reykjavík Floridana völlurinn 1,854 Grindavík Grindavík Grindavíkurvöllur 1,750 ÍBV Vestmannaeyjar Hásteinsvöllur 3,000 KA Akureyri Akureyrarvöllur 1,645 KR Reykjavík Alvogenvöllurinn 3,333 HK Kópavogur Kórinn 1,452 ÍA Akranes Norðurálsvöllurinn 3,054 Stjarnan Garðabær Samsung völlurinn 1,440 Valur Reykjavík Valsvöllur 2,465 Víkingur R. Reykjavík Víkingsvöllur 1,848',\n",
       " ' 1 Not awarded Not awarded Not awarded Not awarded Not awarded Not awarded 2 Ebba Hed Vittsjö GIK 1–0 1–1 Eskilstuna United DFF  3 Tabitha Chawinga Kvarnsvedens IK 2–3 3–3 Kopparbergs/Göteborg FC  4 Emma Jansson KIF Örebro DFF 1–0 1–2 Eskilstuna United DFF  5 Tabitha Chawinga Kvarnsvedens IK 1–1 2–3 Vittsjö GIK  6 Cecilia Pedersen IF Limhamn Bunkeflo 1–0 2–1 Djurgårdens IF  7 Hanna Sandström Kristianstads DFF 1–0 1–0 Piteå IF  8 Filippa Angeldal Hammarby IF 1–3 3–3 Kopparbergs/Göteborg FC  9 Lieke Martens FC Rosengård 1–0 3–0 Vittsjö GIK  10 Marija Banušić Linköpings FC 1–0 2–0 Vittsjö GIK  11 Hanna Terry KIF Örebro DFF 2–1 2–1 Djurgårdens IF  12 Marija Banušić Linköpings FC 2–0 5–0 KIF Örebro DFF  13 Josefin Johansson Piteå IF 1–0 3–2 Linköpings FC  14 Kristine Minde Linköpings FC 1–0 2–0 Kopparbergs/Göteborg FC  15 Marija Banušić Linköpings FC 2–0 2–2 FC Rosengård  16 Elin Bragnum Piteå IF 1–0 2–0 Hammarby IF  17 Tine Schryvers Kristianstads DFF 2–1 2–1 FC Rosengård  18 Olivia Schough Eskilstuna United DFF 2–1 2–1 Kristianstads DFF  19 Olga Ekblom Hammarby IF 6–1 6–1 KIF Örebro DFF ',\n",
       " ' 1. 6 February 2008 London, England  1–1 1–2 Friendly 2. 9 September 2009 Riga, Latvia  2–2 2–2 2010 FIFA World Cup qualification 3. 10 August 2011 Vaduz, Liechtenstein  1–0 1–2 Friendly 4. 11 October 2011 Basel, Switzerland  1–0 2–0 UEFA Euro 2012 qualifying 5. 26 May 2012 Basel, Switzerland  1–0 5–3 Friendly 6. 26 May 2012 Basel, Switzerland  2–0 5–3 Friendly 7. 26 May 2012 Basel, Switzerland  3–1 5–3 Friendly 8. 14 November 2012 Sousse, Tunisia  1–0 2–1 Friendly 9. 9 October 2015 St. Gallen, Switzerland  7–0 7–0 UEFA Euro 2016 qualifying 10. 13 November 2015 Trnava, Slovakia  1–3 2–3 Friendly 11. 13 November 2016 Lucerne, Switzerland  1–0 2–0 2018 FIFA World Cup qualification',\n",
       " ' R1 L1 15 August Arbroath H 4–0 McGhee, McMaster, Davidson, Jarvie 6,700 R1 L2 22 August Arbroath A 1–2 Black 9,000 R2 L1 29 August Meadowbank Thistle A 5–0 Garner, McGhee, McMaster (2), Strachan 1,200 R2 L2 1 September Meadowbank Thistle H 2–2 McMaster, Strachan 6,000 R3 L1 26 September Rangers H 3–1 McLeish, Garner, Harper 18,000 R3 L2 10 October Rangers A 2–0 Strachan, Harper 28,000 QF L1 31 October Celtic H 3–2 Archibald (3) 24,000 QF L2 24 November Celtic A 1–0 McGhee 39,000 SF 1 December Morton N 2–1 McGhee, Strachan 11,896 F 8 December Dundee United N 0–0  27,173 F R 12 December Dundee United N 0–3  28,933',\n",
       " ' 1 Atli Viðar Björnsson FH 13 1 Viðar Örn Kjartansson Fylkir 13 1 Gary John Martin KR 13 4 Chukwudi Chijindu Þór 10 4 Hólmbert Aron Friðjónsson Fram 10 6 Halldór Orri Björnsson Stjarnan 9 6 Björn Daníel Sverrisson FH 9 6 Árni Vilhjálmsson Breiðablik 9 6 Hörður Sveinsson Keflavík 9 6   9',\n",
       " ' Rangers 2015–16 Scottish Championship 2 0 0 0 0 0 — — 0 0 2 0 Rangers 2016–17 Scottish Premiership 1 0 0 0 0 0 — — — — 1 0 Rangers 2017–18 Scottish Premiership 0 0 0 0 0 0 0 0 — — 0 0 Rangers Total Total 3 0 0 0 0 0 0 0 0 0 3 0 Rangers U20s 2016–17 SPFL Development League — — — — — — — — 2 1 2 1 Dumbarton (loan) 2017–18 Scottish Championship 13 1 0 0 0 0 0 0 6 0 19 1 Alloa Athletic (loan) 2018–19 Scottish Championship 7 0 1 0 0 0 0 0 0 0 8 0 Career total Career total Career total 23 1 1 0 0 0 0 0 8 1 32 2',\n",
       " ' 1994     1995     1996     1997     1998     1999 Bergen Rugbyklubb    2000 Bergen Rugbyklubb    2001 Bergen Rugbyklubb    2002 Oslo Rugbyklubb 15-6 Bergen Rugbyklubb  2003 Oslo Rugbyklubb 5-3 Bergen Rugbyklubb  2004 Bergen Rugbyklubb 14-11 Oslo Rugbyklubb  2005 Bergen Rugbyklubb 18-7 Oslo Rugbyklubb  2006 Bergen Rugbyklubb 23-3 East Coast Barbarians  2007 Oslo Rugbyklubb    2008 Oslo Rugbyklubb 20-13 Bergen Rugbyklubb  2009 Bergen Rugbyklubb 32-24 Stavanger Rugbyklubb  2010 Oslo Rugbyklubb 21-5 Bergen Rugbyklubb Fana Stadion, Bergen 2011 Oslo Rugbyklubb 6-5 Bergen Rugbyklubb  2012 Oslo Rugbyklubb 31-5 Bergen Rugbyklubb  2013 Bergen Rugbyklubb 17-9 Oslo Rugbyklubb Bislett Stadion, Oslo 2014 Stavanger Rugbyklubb 26-12 Oslo Rugbyklubb Fana Stadion, Bergen 2015    Stavanger',\n",
       " ' Víkingur Reykjavík 2011 Úrvalsdeild karla 9 2 0 0 2 0 - - 11 2 Víkingur Reykjavík 2012 1. deild karla 15 1 2 1 1 0 - - 18 2 Víkingur Reykjavík 2013 1. deild karla 14 14 3 1 4 1 - - 21 16 Víkingur Reykjavík 2014 Úrvalsdeild karla 16 5 4 2 5 1 - - 25 8 Víkingur Reykjavík Total Total 54 22 9 4 12 2 0 0 75 28 Aalesunds 2015 Eliteserien 18 5 1 0 - - - - 19 5 Aalesunds 2016 Eliteserien 29 3 2 0 - - - - 31 3 Aalesunds 2017 Eliteserien 24 1 2 0 - - - - 26 1 Aalesunds 2018 1. divisjon 26 3 0 0 - - - - 26 3 Aalesunds 2019 1. divisjon 27 6 2 1 - - - - 29 7 Aalesunds Total Total 124 18 7 1 0 0 0 0 131 19 OB 2019–20 Danish Superliga 0 0 0 0 - - - - 0 0 OB Total Total 0 0 0 0 0 0 0 0 0 0 Career total Career total Career total 178 40 15 5 12 2 0 0 205 47',\n",
       " ' 1 IK Sleipner 18 16 0 2 74 – 24 +50 32 2 Djurgårdens IF 18 12 3 3 42 – 23 +19 27 3 Hammarby IF 18 11 1 6 49 – 32 +17 23 4 IFK Norrköping 18 8 2 8 55 – 40 +15 18 5 Sundbybergs IK 18 6 6 6 25 – 30 -5 18 6 Mjölby AI 18 7 4 7 34 – 48 -14 18 7 BK Derby 18 6 2 10 26 – 48 -22 14 8 Åtvidabergs IF 18 4 3 11 32 – 49 -17 11 9 Motala AIF 18 4 2 12 29 – 57 -28 10 10 Reymersholms IK 18 3 3 12 33 – 48 -15 9',\n",
       " \" Ayr 2 – 2 Orion Celtic 1 – 0 Rangers Clyde 6 – 0 East Stirlingshire Dundee 3 – 1 Arthurlie Dundee Wanderers 0 – 3 Abercorn Forfar Athletic 0 – 4 Leith Athletic Heart of Midlothian 7 – 0 Mossend Swifts Hibernian 7 – 0 Dumbarton Kilmarnock 3 – 2 Airdrieonians Greenock Morton 10 – 0 Bo'ness Port Glasgow Athletic 9 – 1 Newton Stewart Royal Albert 1 – 1 St Johnstone St Bernard's 5 – 0 Partick Thistle St Mirren 10 – 0 Kilwinning Eglinton Stenhousemuir 1 – 3 Queen's Park Third Lanark 5 – 0 Douglas Wanderers\",\n",
       " ' 1 4 Florida Panthers 5–2 Lundqvist 1–0–0 2 6 @ Ottawa Senators 2–0 Lundqvist 1–1–0 3 10 @ New York Islanders 2–1 Lundqvist 1–2–0 4 12 Washington Capitals 3–1 Lundqvist 2–2–0 5 13 Ottawa Senators 3–1 Lundqvist 2–3–0 6 18 @ Atlanta Thrashers 5–3 Lundqvist 2–4–0 7 20 @ Boston Bruins 1–0 SO Lundqvist 2–4–1 8 23 @ Pittsburgh Penguins 1–0 Lundqvist 2–5–1 9 25 New Jersey Devils 2–0 Lundqvist 3–5–1 10 27 Toronto Maple Leafs 4–1 Lundqvist 3–6–1 11 29 Tampa Bay Lightning 3–1 Lundqvist 4–6–1',\n",
       " ' 2014–15 UEFA Champions League 1Q HB Tórshavn 1–1 2–5 3–6 17px 2015–16 UEFA Champions League 1Q FC Santa Coloma 0–0 2–1 2–1 17px 2015–16 UEFA Champions League 2Q FC Midtjylland 0–2 0–1 0–3 17px 2016–17 UEFA Champions League 1Q FC Flora Tallinn 2–0 1–2 3–2 17px 2016–17 UEFA Champions League 2Q Celtic 1–0 0–3 1–3 17px 2017–18 UEFA Europa League 1Q AEK Larnaca 1–1 0–5 1–6 17px 2018–19 UEFA Champions League PR La Fiorita 2–0 2–0 style=\"text-align:center;\" 17px 2018–19 UEFA Champions League PR Drita 1–4 1–4 style=\"text-align:center;\" 17px 2018–19 UEFA Europa League 2Q The New Saints 1−1 1–2 2–3 17px 2019–20 UEFA Champions League PR Feronikeli 0–1 0–1 style=\"text-align:center;\" 17px 2019–20 UEFA Europa League 2Q Ararat-Armenia 1–2 0–2 1−4 17px',\n",
       " ' 1. 5 September 2001 Helsinki, Finland  5–1 Loss 2002 FIFA World Cup qualifier 2. 13 February 2002 Thessaloniki, Greece  2–2 Draw Friendly Match 3. 12 June 2004 Porto, Portugal  1–2 Win UEFA Euro 2004 4. 30 March 2005 Athens, Greece  2–0 Win 2006 FIFA World Cup qualifier 5. 26 March 2008 Düsseldorf, Germany  1–2 Win Friendly Match 6. 26 March 2008 Düsseldorf, Germany  1–2 Win Friendly Match 7. 12 October 2010 Athens, Greece  2–1 Win UEFA Euro 2012 qualifier 8. 15 November 2011 Altach, Austria  1–3 Loss Friendly Match 9. 16 June 2012 Warsaw, Poland  1–0 Win UEFA Euro 2012 10. 15 October 2013 Piraeus, Greece  2–0 Win 2014 FIFA World Cup qualifier',\n",
       " ' 1 Jönköpings Södra IF 18 13 2 3 63 - 22 +41 28 2 Åtvidabergs FF 18 12 3 3 52 - 27 +25 27 3 IK Sleipner 18 8 6 4 41 - 29 +12 22 4 Husqvarna IF 18 9 2 7 44 - 42 +2 20 5 Reymersholms IK 18 7 5 6 26 - 29 -3 19 6 BK Derby 18 7 2 9 19 - 32 -13 16 7 IFK Eskilstuna 18 7 1 10 19 - 33 -14 15 8 IFK Värnamo 18 5 4 9 32 - 39 -7 14 9 IFK Lidingö 18 5 3 10 24 - 34 -10 13 10 Hammarby IF 18 2 2 14 14 - 47 -33 6',\n",
       " ' 1 Jeppe Hansen Keflavík 15 2 Björgvin Stefánsson Haukar 14 2 Albert Brynjar Ingason Fylkir 14 4 Viktor Jónsson Þróttur R. 13 5 Ivan Bubalo Fram 10 5 Bjarni Gunnarsson HK 10 7 Tómas Óli Garðarsson Leiknir R. 8 8 Brynjar Jónasson HK 7 8 Tómas Óli Garðarsson Leiknir R. 7 8 Guðmundur Magnússon Fram 7 8 J. C. Mack Selfoss 7',\n",
       " ' Alloa Athletic 3 – 3 Spartans Berwick Rangers 4 – 2 Huntly East Stirlingshire 0 – 5 Cowdenbeath Greenock Morton 4 – 0 Vale of Leithen Gretna 5 – 1 Stenhousemuir Inverurie Loco Works 1 – 5 Airdrie United Montrose 1 – 0 Threave Rovers Peterhead 0 – 2 East Fife Stranraer 0 – 1 Hamilton Academical Stirling Albion 1 – 2 Arbroath',\n",
       " \" Albion Rovers 5–2 East Stirlingshire 12 August 1961 Forfar Athletic 1–3 Queen's Park 12 August 1961 Morton 2–1 Forfar Athletic 16 August 1961 Queen's Park 1–3 Albion Rovers 16 August 1961 East Stirlingshire 4–1 Morton 19 August 1961 Forfar Athletic 3–5 Albion Rovers 19 August 1961 East Stirlingshire 1–0 Forfar Athletic 26 August 1961 Morton 1–3 Queen's Park 26 August 1961 Albion Rovers 3–1 Morton 2 September 1961 Queen's Park 7–2 East Stirlingshire 2 September 1961\",\n",
       " ' 26 March 2018 PS Barito Putera H 3–1 Maitimo 11, Gatra 78, Nwokolo 89 5,465  2 April 2018 PS TIRA A 0–1  2,418  7 April 2018 Sriwijaya H 3–0 Fabiano Beltrame 83, Krangar 85, Gatra 90+2 4,460  13 April 2018 Mitra Kukar A 1–3 Maitimo 35 2,246  21 April 2018 Arema H 3–2 Nwokolo 43, Maitimo 73 (pen.), Davronov 87 9,825  27 April 2018 Borneo A 2–2 Nwokolo 7, Beto 60 8,724  4 May 2018 Persib Bandung H 2–1 Fabiano Beltrame (2) 38 (pen.), 81 9,268  12 May 2018 Persija Jakarta A 2–0 Fabiano Beltrame 4, Krangar 79 24,137  19 May 2018 Persipura Jayapura A 0–6  16,126  25 May 2018 Persebaya Surabaya H 2–2 Beto 4, Fabiano Beltrame 45 13,410  30 May 2018 PSM Makassar A 0–2  13,736  3 June 2018 Bali United H 2–2 Nurcahyono 22, Beto 73 7,500  7 June 2018 Bhayangkara A 0–1  1,355  8 July 2018 PSMS Medan H 1–0 Beto 6 3,632  12 July 2018 PSIS Semarang A 0–0  8,415  17 July 2018 Perseru Serui H 2–0 Sani 14, Nurcahyono 89 3,488  23 July 2018 Persela Lamongan A 1–1 Krangar 24 7,469  28 July 2018 PS Barito Putera A 0–0  6,975  3 August 2018 PS TIRA H 3–1 Nurcahyono (2) 46, 82, Fabiano Beltrame 79 3,282  11 August 2018 Sriwijaya A 2–1 Krangar 56, Samassa 84 285  13 September 2018 Mitra Kukar H 2–0 Samassa 10, Nwokolo 72 3,511 2nd 17 September 2018 Arema A 0–2  2,710 3rd 22 September 2018 Borneo H 1–2 Alves 14 (o.g.) 2,657 5th 9 October 2018 Persib Bandung A 2–1 Fabiano Beltrame 27 (pen.), Krangar 59 0 3rd']"
      ]
     },
     "execution_count": 19,
     "metadata": {},
     "output_type": "execute_result"
    }
   ],
   "source": [
    "retrieved_documents[1]['C_226_0']['table']"
   ]
  },
  {
   "cell_type": "code",
   "execution_count": null,
   "metadata": {},
   "outputs": [],
   "source": []
  }
 ],
 "metadata": {
  "kernelspec": {
   "display_name": "ir",
   "language": "python",
   "name": "python3"
  },
  "language_info": {
   "codemirror_mode": {
    "name": "ipython",
    "version": 3
   },
   "file_extension": ".py",
   "mimetype": "text/x-python",
   "name": "python",
   "nbconvert_exporter": "python",
   "pygments_lexer": "ipython3",
   "version": "3.10.4"
  }
 },
 "nbformat": 4,
 "nbformat_minor": 2
}
